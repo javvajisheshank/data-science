{
 "cells": [
  {
   "cell_type": "code",
   "execution_count": null,
   "id": "47fcd003-79be-4200-9804-51b3857dde4c",
   "metadata": {},
   "outputs": [],
   "source": [
    "# In operator : For loop\n",
    "# Index : For loop\n",
    "# Mutability check\n",
    "# Slicing\n",
    "# Concatenation\n",
    "\n",
    "\n",
    "# Postive index\n",
    "# Negative index\n",
    "# Both pos and neg"
   ]
  },
  {
   "cell_type": "code",
   "execution_count": 5,
   "id": "df3d5956-855e-4982-927f-4ac60d716583",
   "metadata": {},
   "outputs": [
    {
     "name": "stdout",
     "output_type": "stream",
     "text": [
      "Apple\n",
      "banana\n",
      "orange\n",
      "grape\n"
     ]
    }
   ],
   "source": [
    "fruits=['Apple','banana','orange','grape']\n",
    "for fruit in fruits:\n",
    "    print(fruit)"
   ]
  },
  {
   "cell_type": "code",
   "execution_count": 13,
   "id": "c8beb715-1c97-4f7e-ad74-40249a3d1360",
   "metadata": {},
   "outputs": [
    {
     "name": "stdout",
     "output_type": "stream",
     "text": [
      "1\n",
      "2\n",
      "3\n",
      "A\n",
      "B\n",
      "C\n",
      "D\n"
     ]
    }
   ],
   "source": [
    "numbers=[1,2,3,'A','B','C','D']\n",
    "for number in numbers:\n",
    "    print(number)"
   ]
  },
  {
   "cell_type": "code",
   "execution_count": 14,
   "id": "97d09839-ed3a-43b4-844c-aa9f8142d4f3",
   "metadata": {},
   "outputs": [
    {
     "name": "stdout",
     "output_type": "stream",
     "text": [
      "hai\n",
      "are\n",
      "you\n"
     ]
    }
   ],
   "source": [
    "words=['hai','are','you']\n",
    "for word in words:\n",
    "    print(word)"
   ]
  },
  {
   "cell_type": "markdown",
   "id": "eb16dcb0-8687-4b6a-8e94-9b4471ef446b",
   "metadata": {},
   "source": [
    "**Index for loop**"
   ]
  },
  {
   "cell_type": "code",
   "execution_count": 14,
   "id": "586af02d-75c6-4ea3-90bf-98743f344fdc",
   "metadata": {},
   "outputs": [
    {
     "name": "stdout",
     "output_type": "stream",
     "text": [
      "1\n",
      "5\n",
      "9\n"
     ]
    }
   ],
   "source": [
    "# h    a   i       h     a    i      h      a      i\n",
    "# 0    1   2   3   4     5    6   7  8      9      10\n",
    "str1='hai hai hai'\n",
    "for i in range(len(str1)):\n",
    "    if str1[i]=='a':\n",
    "        print(i)\n"
   ]
  },
  {
   "cell_type": "code",
   "execution_count": 17,
   "id": "7a5f6f98-0042-44d5-90b3-2a1de0558d08",
   "metadata": {},
   "outputs": [
    {
     "name": "stdout",
     "output_type": "stream",
     "text": [
      "2\n",
      "6\n",
      "10\n"
     ]
    }
   ],
   "source": [
    "# b   y   e      b     y    e      b    y    e\n",
    "#0    1   2  3   4     5    6  7   8    9    10\n",
    "str1='bye bye bye'\n",
    "for i in range(len(str1)):\n",
    "    if str1[i]=='e':\n",
    "        print(i)\n"
   ]
  },
  {
   "cell_type": "markdown",
   "id": "eb1b6a14-ea69-4cfc-b230-da4cd9ef5bce",
   "metadata": {},
   "source": [
    "**Mutability**"
   ]
  },
  {
   "cell_type": "code",
   "execution_count": 19,
   "id": "a09929d6-2831-4dda-91fe-9c74844de9bd",
   "metadata": {},
   "outputs": [
    {
     "data": {
      "text/plain": [
       "[1, 200, 3, 4]"
      ]
     },
     "execution_count": 19,
     "metadata": {},
     "output_type": "execute_result"
    }
   ],
   "source": [
    "i=[1,2,3,4]\n",
    "i[1]=200\n",
    "i"
   ]
  },
  {
   "cell_type": "code",
   "execution_count": 22,
   "id": "639dc8d2-fea0-41b8-9f80-1afcc626d093",
   "metadata": {},
   "outputs": [
    {
     "data": {
      "text/plain": [
       "[2, 4, 5, 100]"
      ]
     },
     "execution_count": 22,
     "metadata": {},
     "output_type": "execute_result"
    }
   ],
   "source": [
    "i=[2,4,5,6]\n",
    "i[3]=100\n",
    "i"
   ]
  },
  {
   "cell_type": "markdown",
   "id": "d2f536ec-8d24-47d5-9209-ba3869c79f1b",
   "metadata": {},
   "source": [
    "**Slicing**"
   ]
  },
  {
   "cell_type": "code",
   "execution_count": 62,
   "id": "340265ef-9eb6-48a1-85e0-790d3df29cea",
   "metadata": {},
   "outputs": [
    {
     "name": "stdout",
     "output_type": "stream",
     "text": [
      "[2, 3, 4]\n"
     ]
    }
   ],
   "source": [
    "lst=[1, 2, 3, 4, 5]\n",
    "print(lst[1:4]) "
   ]
  },
  {
   "cell_type": "code",
   "execution_count": 59,
   "id": "ec51daad-94ed-4201-aede-b81349b5ab7a",
   "metadata": {},
   "outputs": [
    {
     "name": "stdout",
     "output_type": "stream",
     "text": [
      "[4, 5, 6]\n"
     ]
    }
   ],
   "source": [
    "lst=[1,2,4,5,6,7]\n",
    "print(lst[2:5])"
   ]
  },
  {
   "cell_type": "code",
   "execution_count": 61,
   "id": "e51213ff-f37f-4128-84bf-4b634b0ee62a",
   "metadata": {},
   "outputs": [
    {
     "name": "stdout",
     "output_type": "stream",
     "text": [
      "[2, 3, 'A']\n"
     ]
    }
   ],
   "source": [
    "lst=[1,2,3,'A','B','C']\n",
    "print(lst[1:4])"
   ]
  },
  {
   "cell_type": "markdown",
   "id": "e056e3ba-e7f1-44c1-81ce-5d13084e714b",
   "metadata": {},
   "source": [
    "**Concatination**"
   ]
  },
  {
   "cell_type": "code",
   "execution_count": 23,
   "id": "cb7d8e42-387d-475b-b546-8b6ecf383f22",
   "metadata": {},
   "outputs": [
    {
     "data": {
      "text/plain": [
       "'hairaja'"
      ]
     },
     "execution_count": 23,
     "metadata": {},
     "output_type": "execute_result"
    }
   ],
   "source": [
    "s1='hai'\n",
    "s2='raja'\n",
    "s1+s2"
   ]
  },
  {
   "cell_type": "code",
   "execution_count": 24,
   "id": "ab6f5c07-e398-4941-b06d-ca5131f33e15",
   "metadata": {},
   "outputs": [
    {
     "data": {
      "text/plain": [
       "'hai raja'"
      ]
     },
     "execution_count": 24,
     "metadata": {},
     "output_type": "execute_result"
    }
   ],
   "source": [
    "s1='hai '\n",
    "s2='raja'\n",
    "s1+s2"
   ]
  },
  {
   "cell_type": "markdown",
   "id": "98054763-7b5d-4778-b363-64236ac30b37",
   "metadata": {},
   "source": [
    "**Positive index**"
   ]
  },
  {
   "cell_type": "code",
   "execution_count": 47,
   "id": "ab649dae-cad2-4e71-b90e-f8025d758f8e",
   "metadata": {},
   "outputs": [
    {
     "name": "stdout",
     "output_type": "stream",
     "text": [
      "0 h\n",
      "the positive index of  h is 0:\n",
      "1 a\n",
      "the positive index of  a is 1:\n",
      "2 r\n",
      "the positive index of  r is 2:\n",
      "3 o\n",
      "the positive index of  o is 3:\n",
      "4 m\n",
      "the positive index of  m is 4:\n",
      "5  \n",
      "the positive index of    is 5:\n",
      "6 h\n",
      "the positive index of  h is 6:\n",
      "7 a\n",
      "the positive index of  a is 7:\n",
      "8 r\n",
      "the positive index of  r is 8:\n",
      "9 a\n",
      "the positive index of  a is 9:\n"
     ]
    }
   ],
   "source": [
    "s='harom hara'\n",
    "for i in range(len(s)):\n",
    "    print(i,s[i])\n",
    "    print(f\"the positive index of  {s[i]} is {i}:\")"
   ]
  },
  {
   "cell_type": "code",
   "execution_count": 49,
   "id": "b7899be4-3303-4e54-954a-0914e0ccf71c",
   "metadata": {},
   "outputs": [
    {
     "name": "stdout",
     "output_type": "stream",
     "text": [
      "0 s\n",
      "positive index of s is 0:\n",
      "1 a\n",
      "positive index of a is 1:\n",
      "2 l\n",
      "positive index of l is 2:\n",
      "3 a\n",
      "positive index of a is 3:\n",
      "4 a\n",
      "positive index of a is 4:\n",
      "5 r\n",
      "positive index of r is 5:\n"
     ]
    }
   ],
   "source": [
    "s='salaar'\n",
    "for i in range(len(s)):\n",
    "    print(i,s[i])\n",
    "    print(f\"positive index of {s[i]} is {i}:\")"
   ]
  },
  {
   "cell_type": "markdown",
   "id": "0808ca9a-e409-4438-accd-b42baf416b43",
   "metadata": {},
   "source": [
    "**Negative index**"
   ]
  },
  {
   "cell_type": "code",
   "execution_count": 48,
   "id": "1f3455d8-cb66-4449-9d16-b1d79254aaf1",
   "metadata": {},
   "outputs": [
    {
     "name": "stdout",
     "output_type": "stream",
     "text": [
      "0 -19\n",
      "the negative index of h is -19:\n",
      "1 -18\n",
      "the negative index of a is -18:\n",
      "2 -17\n",
      "the negative index of r is -17:\n",
      "3 -16\n",
      "the negative index of e is -16:\n",
      "4 -15\n",
      "the negative index of r is -15:\n",
      "5 -14\n",
      "the negative index of a is -14:\n",
      "6 -13\n",
      "the negative index of m is -13:\n",
      "7 -12\n",
      "the negative index of   is -12:\n",
      "8 -11\n",
      "the negative index of h is -11:\n",
      "9 -10\n",
      "the negative index of a is -10:\n",
      "10 -9\n",
      "the negative index of r is -9:\n",
      "11 -8\n",
      "the negative index of e is -8:\n",
      "12 -7\n",
      "the negative index of k is -7:\n",
      "13 -6\n",
      "the negative index of r is -6:\n",
      "14 -5\n",
      "the negative index of i is -5:\n",
      "15 -4\n",
      "the negative index of s is -4:\n",
      "16 -3\n",
      "the negative index of h is -3:\n",
      "17 -2\n",
      "the negative index of n is -2:\n",
      "18 -1\n",
      "the negative index of a is -1:\n"
     ]
    }
   ],
   "source": [
    "s='hareram harekrishna'\n",
    "for i in range(len(s)):\n",
    "    print(i,i-len(s))\n",
    "    print(f\"the negative index of {s[i]} is {i-len(s)}:\")"
   ]
  },
  {
   "cell_type": "code",
   "execution_count": 54,
   "id": "d9aaf6fc-6f04-492f-a893-9e5aa324a883",
   "metadata": {},
   "outputs": [
    {
     "name": "stdout",
     "output_type": "stream",
     "text": [
      "0 -6\n",
      "negative index of s is -6:\n",
      "1 -5\n",
      "negative index of a is -5:\n",
      "2 -4\n",
      "negative index of l is -4:\n",
      "3 -3\n",
      "negative index of a is -3:\n",
      "4 -2\n",
      "negative index of a is -2:\n",
      "5 -1\n",
      "negative index of r is -1:\n"
     ]
    }
   ],
   "source": [
    "s='salaar'\n",
    "for i in range(len(s)):\n",
    "    print(i,i-len(s))\n",
    "    print(f\"negative index of {s[i]} is {i-len(s)}:\")"
   ]
  },
  {
   "cell_type": "markdown",
   "id": "bf8f0464-1cb2-46ca-a00d-8d213e756b8f",
   "metadata": {},
   "source": [
    "**Both neg and pos**"
   ]
  },
  {
   "cell_type": "code",
   "execution_count": 55,
   "id": "567ce640-445b-4ed9-a691-003518b2fc48",
   "metadata": {},
   "outputs": [
    {
     "name": "stdout",
     "output_type": "stream",
     "text": [
      " the positive index is 0 and negative index of -8 is s:\n",
      " the positive index is 1 and negative index of -7 is h:\n",
      " the positive index is 2 and negative index of -6 is e:\n",
      " the positive index is 3 and negative index of -5 is s:\n",
      " the positive index is 4 and negative index of -4 is h:\n",
      " the positive index is 5 and negative index of -3 is a:\n",
      " the positive index is 6 and negative index of -2 is n:\n",
      " the positive index is 7 and negative index of -1 is k:\n"
     ]
    }
   ],
   "source": [
    "s='sheshank'\n",
    "for i in range(len(s)):\n",
    "    print(f\" the positive index is {i} and negative index of {i-len(s)} is {s[i]}:\")"
   ]
  },
  {
   "cell_type": "code",
   "execution_count": 57,
   "id": "4a959af0-1da3-4fc8-b5ec-89f86b11d008",
   "metadata": {},
   "outputs": [
    {
     "name": "stdout",
     "output_type": "stream",
     "text": [
      "the positive index is 0 and the negative index is -15 is hai how are you:\n",
      "the positive index is 1 and the negative index is -14 is hai how are you:\n",
      "the positive index is 2 and the negative index is -13 is hai how are you:\n",
      "the positive index is 3 and the negative index is -12 is hai how are you:\n",
      "the positive index is 4 and the negative index is -11 is hai how are you:\n",
      "the positive index is 5 and the negative index is -10 is hai how are you:\n",
      "the positive index is 6 and the negative index is -9 is hai how are you:\n",
      "the positive index is 7 and the negative index is -8 is hai how are you:\n",
      "the positive index is 8 and the negative index is -7 is hai how are you:\n",
      "the positive index is 9 and the negative index is -6 is hai how are you:\n",
      "the positive index is 10 and the negative index is -5 is hai how are you:\n",
      "the positive index is 11 and the negative index is -4 is hai how are you:\n",
      "the positive index is 12 and the negative index is -3 is hai how are you:\n",
      "the positive index is 13 and the negative index is -2 is hai how are you:\n",
      "the positive index is 14 and the negative index is -1 is hai how are you:\n"
     ]
    }
   ],
   "source": [
    "s='hai how are you'\n",
    "for i in range(len(s)):\n",
    "    print(f\"the positive index is {i} and the negative index is {i-len(s)} is {s}:\")"
   ]
  },
  {
   "cell_type": "code",
   "execution_count": null,
   "id": "b6ddffe6-f48d-4734-8ee3-1d6cfba2711f",
   "metadata": {},
   "outputs": [],
   "source": []
  }
 ],
 "metadata": {
  "kernelspec": {
   "display_name": "Python 3 (ipykernel)",
   "language": "python",
   "name": "python3"
  },
  "language_info": {
   "codemirror_mode": {
    "name": "ipython",
    "version": 3
   },
   "file_extension": ".py",
   "mimetype": "text/x-python",
   "name": "python",
   "nbconvert_exporter": "python",
   "pygments_lexer": "ipython3",
   "version": "3.11.7"
  }
 },
 "nbformat": 4,
 "nbformat_minor": 5
}
