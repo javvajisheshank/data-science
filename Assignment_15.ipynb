{
 "cells": [
  {
   "cell_type": "code",
   "execution_count": 35,
   "id": "3aaab773-d0cf-4495-9392-ab47966dcc7f",
   "metadata": {},
   "outputs": [
    {
     "data": {
      "text/plain": [
       "['Mumbai', 'Chennai']"
      ]
     },
     "execution_count": 35,
     "metadata": {},
     "output_type": "execute_result"
    }
   ],
   "source": [
    "# Q2)l1=['Hyd','Mumbai','Chennai','blr']\n",
    "#  ans=['Mumbai','Chennai']  \n",
    "#  we want lements which are len of element >4\n",
    "\n",
    "l1=['Hyd','Mumbai','Chennai','blr']\n",
    "a=[]\n",
    "for i in l1:\n",
    "    if len(i)>4:\n",
    "        a.append(i)\n",
    "\n",
    "a"
   ]
  },
  {
   "cell_type": "code",
   "execution_count": 36,
   "id": "90073517-6558-48ff-9387-9501388f77e3",
   "metadata": {},
   "outputs": [
    {
     "data": {
      "text/plain": [
       "['Mum#bai', 'Chen#nai']"
      ]
     },
     "execution_count": 36,
     "metadata": {},
     "output_type": "execute_result"
    }
   ],
   "source": [
    "# Q3)l1=['Hyd','Mum#bai','Chen#nai','blr']\n",
    "#  ans=['Mum#bai'',Chen#nai'] \n",
    "#  we want lements which are having '#'\n",
    "\n",
    "l1=['Hyd','Mum#bai','Chen#nai','blr']\n",
    "a=[]\n",
    "for i in l1:\n",
    "    if len(i)>4:\n",
    "        a.append(i)\n",
    "a"
   ]
  },
  {
   "cell_type": "code",
   "execution_count": 42,
   "id": "22273973-0cce-4161-8227-c4a19e0b6444",
   "metadata": {},
   "outputs": [
    {
     "data": {
      "text/plain": [
       "['Hyd', 'Mumbai', 'Chennai', 'Blr']"
      ]
     },
     "execution_count": 42,
     "metadata": {},
     "output_type": "execute_result"
    }
   ],
   "source": [
    "# Q4)l1=['hyd','mumbai','chennai','blr']\n",
    "#  ans= ['Hyd','Mumbai','Chennai','Blr']\n",
    "#  we want lements which are len of element >4\n",
    "\n",
    "l1=['hyd','mumbai','chennai','blr']\n",
    "a=[]\n",
    "for i in l1:\n",
    "    if len(i)>2:\n",
    "        d=i.capitalize()\n",
    "        a.append(d)\n",
    "a"
   ]
  },
  {
   "cell_type": "code",
   "execution_count": 46,
   "id": "f7d50f11-c546-4285-943e-ca7f4db66965",
   "metadata": {},
   "outputs": [
    {
     "data": {
      "text/plain": [
       "['Hyd', 'Mumbai']"
      ]
     },
     "execution_count": 46,
     "metadata": {},
     "output_type": "execute_result"
    }
   ],
   "source": [
    "# Q5)l1=['Hyd','Mumbai','chennai','blr']\n",
    "#  ans= ['Hyd','Mumbai']\n",
    "#  we want lements which are having first letter capital\n",
    "l1=['Hyd','Mumbai','chennai','blr']\n",
    "a=[]\n",
    "for i in l1:\n",
    "    if i.istitle()==True:\n",
    "        a.append(i)\n",
    "\n",
    "a"
   ]
  },
  {
   "cell_type": "code",
   "execution_count": 48,
   "id": "81c1efd0-cab3-4062-8ca5-49d43ec8548d",
   "metadata": {},
   "outputs": [
    {
     "name": "stdout",
     "output_type": "stream",
     "text": [
      "answer with # ['Mum#bai', 'chen#nai']\n",
      "answer without # ['Hyd', 'blr']\n"
     ]
    }
   ],
   "source": [
    "# Q6)l1=['Hyd','Mum#bai','Chen#nai','blr']\n",
    "#  ans_#=['Mum#bai'',Chen#nai']  \n",
    "#  ans_without_#=['Hyd'','blr']\n",
    "#  we want lements which are having '#'\n",
    "\n",
    "l1=['Hyd','Mum#bai','chen#nai','blr']\n",
    "l2=[]\n",
    "l3=[]\n",
    "for i in l1:\n",
    "    if '#' in i:\n",
    "        l2.append(i)\n",
    "    if '#' not in i:\n",
    "        l3.append(i)\n",
    "print(f\"answer with # {l2}\")\n",
    "print(f\"answer without # {l3}\")"
   ]
  },
  {
   "cell_type": "code",
   "execution_count": 49,
   "id": "06ae1b6e-c7f4-4062-9299-a635f97f073b",
   "metadata": {},
   "outputs": [
    {
     "name": "stdout",
     "output_type": "stream",
     "text": [
      "even list:[90, 48]\n",
      "odd list:[49, 41, 83]\n"
     ]
    }
   ],
   "source": [
    "# Q7) ask the user get 5 numbers randomly\n",
    "#     even_list and odd_list\n",
    "#     even numbers should append at even_list\n",
    "#     odd number should append at odd_list\n",
    "import random\n",
    "even_list=[]\n",
    "odd_list=[]\n",
    "for i in range(5):\n",
    "    num=random.randint(1,100)\n",
    "    if num%2==0:\n",
    "        even_list.append(num)\n",
    "    else:\n",
    "        odd_list.append(num)\n",
    "\n",
    "print(f'even list:{even_list}')\n",
    "print(f'odd list:{odd_list}')"
   ]
  },
  {
   "cell_type": "code",
   "execution_count": 50,
   "id": "85280984-39db-4b9d-9913-32a97f924f38",
   "metadata": {},
   "outputs": [
    {
     "name": "stdout",
     "output_type": "stream",
     "text": [
      "hello\n"
     ]
    }
   ],
   "source": [
    "# Q8) str='hello hai how are you'\n",
    "# Maximum len of word using split and max method\n",
    "# sum of all the indexes of the maximum len of word using append\n",
    "str='hello hai how are you'\n",
    "words=str.split()\n",
    "maxx=max(words,key=len)\n",
    "print(maxx)"
   ]
  },
  {
   "cell_type": "code",
   "execution_count": 60,
   "id": "ef74af9a-b0ea-40e7-9541-de6400f7633c",
   "metadata": {},
   "outputs": [
    {
     "name": "stdout",
     "output_type": "stream",
     "text": [
      "First names: ['virat', ' Rohit', ' KL']\n",
      "Second names: ['kohli', 'sharma', 'Rahul']\n",
      "Company names: ['rcb', 'mi', 'lucknow']\n"
     ]
    }
   ],
   "source": [
    "# Q9) str1='virat.kohli@rcb.com, Rohit.sharma@mi.co, KL.Rahul@lucknow.com'\n",
    "# Firstname=[]  second name=[]  cname =[]\n",
    "# append first name should be in first name list\n",
    "#        second name shoul be in second name list\n",
    "#        thirs name will be in thirs name list\n",
    "\n",
    "str1='virat.kohli@rcb.com, Rohit.sharma@mi.co, KL.Rahul@lucknow.com'\n",
    "firstname=[] \n",
    "secondname=[] \n",
    "thirdname =[]\n",
    "words=str1.split(',')\n",
    "for word in words:\n",
    "    i1=word.index('.')\n",
    "    i2=word.index('@')\n",
    "    fname=word[:i1]\n",
    "    sname=word[i1+1:i2]\n",
    "    tname=word[i2+1:word.index('.', i2)]\n",
    "    firstname.append(fname)\n",
    "    secondname.append(sname)\n",
    "    thirdname.append(tname)\n",
    "print(\"First names:\",firstname)\n",
    "print(\"Second names:\",secondname)\n",
    "print(\"Company names:\",thirdname)"
   ]
  },
  {
   "cell_type": "code",
   "execution_count": 110,
   "id": "21ffe103-00ed-46fb-a07c-078a26bf764e",
   "metadata": {},
   "outputs": [
    {
     "name": "stdout",
     "output_type": "stream",
     "text": [
      "What is capital of India\n"
     ]
    },
    {
     "name": "stdin",
     "output_type": "stream",
     "text": [
      "enter answer: delhi\n"
     ]
    },
    {
     "name": "stdout",
     "output_type": "stream",
     "text": [
      "Who is PM of india\n"
     ]
    },
    {
     "name": "stdin",
     "output_type": "stream",
     "text": [
      "enter answer: modi\n"
     ]
    },
    {
     "name": "stdout",
     "output_type": "stream",
     "text": [
      "Who is ICT ODI captian\n"
     ]
    },
    {
     "name": "stdin",
     "output_type": "stream",
     "text": [
      "enter answer: rohit\n"
     ]
    },
    {
     "name": "stdout",
     "output_type": "stream",
     "text": [
      "total marks are : 0\n"
     ]
    }
   ],
   "source": [
    "# 10 )\n",
    "#  You have two lists\n",
    "# qns=['What is capital of India',\n",
    "       'Who is PM of india',\n",
    "        'Who is ICT ODI captian']\n",
    "# ans = ['Delhi','Modi','Rohit']\n",
    "\n",
    "\n",
    "# For i in qns:\n",
    "#     print(i)\n",
    "#     ans= delhi\n",
    "#      index should match\n",
    "#      delhi  modi\n",
    "#      marks= marks+1\n",
    "# print the total marks\n",
    "\n",
    "marks=0\n",
    "qns=['What is capital of India',\n",
    "       'Who is PM of india',\n",
    "        'Who is ICT ODI captian']\n",
    "ans = ['Delhi','Modi','Rohit']\n",
    "for i in range(len(qns)):\n",
    "    print(qns[i])\n",
    "    anss=input(\"enter answer:\")\n",
    "    if anss==ans[i]:\n",
    "        marks=marks+1\n",
    "print(f'total marks are : {marks}')"
   ]
  },
  {
   "cell_type": "code",
   "execution_count": null,
   "id": "79b69143-b2f2-41b0-af12-21247739efb8",
   "metadata": {},
   "outputs": [],
   "source": []
  }
 ],
 "metadata": {
  "kernelspec": {
   "display_name": "Python 3 (ipykernel)",
   "language": "python",
   "name": "python3"
  },
  "language_info": {
   "codemirror_mode": {
    "name": "ipython",
    "version": 3
   },
   "file_extension": ".py",
   "mimetype": "text/x-python",
   "name": "python",
   "nbconvert_exporter": "python",
   "pygments_lexer": "ipython3",
   "version": "3.11.7"
  }
 },
 "nbformat": 4,
 "nbformat_minor": 5
}
